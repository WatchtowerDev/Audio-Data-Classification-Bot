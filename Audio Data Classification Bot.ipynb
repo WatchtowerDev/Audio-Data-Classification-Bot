{
 "cells": [
  {
   "cell_type": "code",
   "execution_count": null,
   "metadata": {},
   "outputs": [],
   "source": [
    "import pandas as pd\n",
    "import re"
   ]
  },
  {
   "cell_type": "markdown",
   "metadata": {},
   "source": [
    "This cell formats the data, sorting it for analysis"
   ]
  },
  {
   "cell_type": "code",
   "execution_count": 3,
   "metadata": {},
   "outputs": [
    {
     "name": "stderr",
     "output_type": "stream",
     "text": [
      "/opt/pyenv/versions/anaconda3-2019.03/lib/python3.7/site-packages/ipykernel_launcher.py:8: FutureWarning: set_value is deprecated and will be removed in a future release. Please use .at[] or .iat[] accessors instead\n",
      "  \n"
     ]
    }
   ],
   "source": [
    "data = pd.read_csv('results 08.csv') #Change this path to the csv that you want to format\n",
    "data.columns = ['filePath','breakdown', 'percentage', 'Anomaly']\n",
    "#data=data.set_index()\n",
    "data['urlNum']=0\n",
    "for index, row in data.iterrows():\n",
    "    m=re.search(\"[^k][\\d]+(?=\\.)\", row['filePath'])\n",
    "    if m is not None:\n",
    "        data=data.set_value(index, 'urlNum', int(m.group(0)))\n",
    "data=data.sort_values('urlNum')\n",
    "data.to_csv('testResultsforAutoAnalysis.csv') #Change this to the name that you want the results to be saved under"
   ]
  },
  {
   "cell_type": "markdown",
   "metadata": {},
   "source": [
    "This cell analyzes the output, based on time series, to say where likely devices and leaks are"
   ]
  },
  {
   "cell_type": "code",
   "execution_count": 10,
   "metadata": {},
   "outputs": [
    {
     "name": "stderr",
     "output_type": "stream",
     "text": [
      "/opt/pyenv/versions/anaconda3-2019.03/lib/python3.7/site-packages/ipykernel_launcher.py:1: FutureWarning: from_csv is deprecated. Please use read_csv(...) instead. Note that some of the default arguments are different, so please refer to the documentation for from_csv when changing your function calls\n",
      "  \"\"\"Entry point for launching an IPython kernel.\n",
      "/opt/pyenv/versions/anaconda3-2019.03/lib/python3.7/site-packages/pandas/core/frame.py:6692: FutureWarning: Sorting because non-concatenation axis is not aligned. A future version\n",
      "of pandas will change to not sort by default.\n",
      "\n",
      "To accept the future behavior, pass 'sort=False'.\n",
      "\n",
      "To retain the current behavior and silence the warning, pass 'sort=True'.\n",
      "\n",
      "  sort=sort)\n"
     ]
    }
   ],
   "source": [
    "data=pd.DataFrame.from_csv('testResultsforAutoAnalysis.csv') #This will load the data sheet into the file. Change the string for each input data sheet\n",
    "i = 0\n",
    "j = 0\n",
    "observations=0\n",
    "run=0\n",
    "runcheck=0\n",
    "global Summary\n",
    "Summary=pd.DataFrame()\n",
    "Summary=Summary.reindex(columns=[\"Start\",\"End\",\"Potential Leak\",\"Potential Bend/ Metal Device\"])\n",
    "\n",
    "for index, row in data.iterrows():\n",
    "    for index1, row1 in data.iterrows():\n",
    "        if j>i and j<(i+16):\n",
    "            if(row1[\"breakdown\"]==str(['Three', 'One'])):\n",
    "                observations=observations+1\n",
    "                if(run==0):\n",
    "                    run=1\n",
    "                else:\n",
    "                    run=run+1\n",
    "                    runcheck=1\n",
    "            else:\n",
    "                run=0\n",
    "        if j>i+17:\n",
    "            break\n",
    "        j=j+1\n",
    "    if(observations>1):\n",
    "        if(runcheck>0):\n",
    "            df=pd.DataFrame([{\"Start\": row[\"filePath\"],\"End\": row1[\"filePath\"], \"Potential Leak\": \"X\", \"Potential Bend/ Metal Device\": \"\"}])\n",
    "            Summary=Summary.append(df)\n",
    "        else:\n",
    "            df=pd.DataFrame([{\"Start\": row[\"filePath\"],\"End\" : row1[\"filePath\"], \"Potential Leak\" : \"\", \"Potential Bend/ Metal Device\" : \"X\"}])\n",
    "            Summary=Summary.append(df)\n",
    "    i=i+1\n",
    "    j=0\n",
    "    run=0\n",
    "    runcheck=0\n",
    "    observations=0\n",
    "Summary=Summary.reindex(columns=[\"Start\",\"End\",\"Potential Leak\",\"Potential Bend/ Metal Device\"])\n",
    "Summary.to_csv(\"TestResults813.csv\")#Change this to the name that you want the summary of the analysis to be saved under\n",
    "    \n",
    "    \n",
    "    \n",
    "    \n",
    "    \n",
    "    "
   ]
  },
  {
   "cell_type": "code",
   "execution_count": null,
   "metadata": {},
   "outputs": [],
   "source": []
  },
  {
   "cell_type": "code",
   "execution_count": null,
   "metadata": {},
   "outputs": [],
   "source": []
  }
 ],
 "metadata": {
  "kernelspec": {
   "display_name": "Python 3",
   "language": "python",
   "name": "python3"
  },
  "language_info": {
   "codemirror_mode": {
    "name": "ipython",
    "version": 3
   },
   "file_extension": ".py",
   "mimetype": "text/x-python",
   "name": "python",
   "nbconvert_exporter": "python",
   "pygments_lexer": "ipython3",
   "version": "3.7.3"
  }
 },
 "nbformat": 4,
 "nbformat_minor": 2
}
